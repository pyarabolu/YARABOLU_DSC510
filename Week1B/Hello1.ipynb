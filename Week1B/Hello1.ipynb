#%%this is a test program
print("Hello World12")